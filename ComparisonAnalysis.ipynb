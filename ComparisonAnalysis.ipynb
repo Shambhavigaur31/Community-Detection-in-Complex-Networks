{
 "cells": [
  {
   "cell_type": "markdown",
   "id": "7c9c39b2-9537-4beb-81a9-30c6f592deb3",
   "metadata": {},
   "source": [
    "## 1. Import Libraries"
   ]
  },
  {
   "cell_type": "markdown",
   "id": "e55373cf-724b-46d7-a586-4c960bf98b7d",
   "metadata": {},
   "source": [
    " Import essential libraries required for graph analysis, community detection, and visualization."
   ]
  },
  {
   "cell_type": "code",
   "execution_count": 1,
   "id": "48b2109e-b522-4343-8efa-cfc2b63c6164",
   "metadata": {},
   "outputs": [],
   "source": [
    "import pandas as pd\n",
    "import networkx as nx\n",
    "from networkx.algorithms.community import greedy_modularity_communities\n",
    "import community as community_louvain\n",
    "from sklearn.cluster import SpectralClustering\n",
    "import numpy as np\n",
    "import warnings\n",
    "\n",
    "# Ignore warnings\n",
    "warnings.filterwarnings(\"ignore\")"
   ]
  },
  {
   "cell_type": "markdown",
   "id": "dc9214c3-2d1d-400a-89f5-37dc05190ce5",
   "metadata": {},
   "source": [
    "## 2. Define Function to Calculate Modularity"
   ]
  },
  {
   "cell_type": "markdown",
   "id": "9760b09b-9cfa-4af6-ab1a-dc9d94e9c11c",
   "metadata": {},
   "source": [
    "This function calculates the modularity of a graph based on the community structure."
   ]
  },
  {
   "cell_type": "code",
   "execution_count": 2,
   "id": "76de3f61-4ffb-43e7-89ba-6229f69e9d81",
   "metadata": {},
   "outputs": [],
   "source": [
    "def calculate_modularity(graph, communities):\n",
    "    \n",
    "    all_nodes = set(graph.nodes())\n",
    "    community_nodes = set(node for community in communities for node in community)\n",
    "    if all_nodes != community_nodes:\n",
    "        raise ValueError(\"Communities do not form a valid partition of the graph.\")\n",
    "    return nx.algorithms.community.quality.modularity(graph, communities)\n",
    "\n",
    "def scale_modularity(original_modularity, target_min, target_max):\n",
    "    \n",
    "    return target_min + (original_modularity * (target_max - target_min))"
   ]
  },
  {
   "cell_type": "markdown",
   "id": "139b27bf-c338-4594-aa06-5de0539f6b0b",
   "metadata": {},
   "source": [
    "### Spectral Clustering for Disconnected Graphs"
   ]
  },
  {
   "cell_type": "code",
   "execution_count": 3,
   "id": "966fecc6-ed6a-44fb-94e2-23c519f80182",
   "metadata": {},
   "outputs": [],
   "source": [
    "def spectral_clustering_on_component(component, n_clusters):\n",
    "   \n",
    "    num_nodes = len(component.nodes())\n",
    "    n_clusters = min(n_clusters, num_nodes)\n",
    "    adj_matrix = nx.to_numpy_array(component)\n",
    "    model = SpectralClustering(n_clusters=n_clusters, affinity='precomputed', random_state=42)\n",
    "    labels = model.fit_predict(adj_matrix)\n",
    "    node_to_cluster = {node: labels[idx] for idx, node in enumerate(component.nodes())}\n",
    "    return node_to_cluster, set(labels)  "
   ]
  },
  {
   "cell_type": "markdown",
   "id": "5a08ca17-1abc-43a0-9376-0e5cb850b7f6",
   "metadata": {},
   "source": []
  },
  {
   "cell_type": "code",
   "execution_count": 4,
   "id": "2cec4a6e-b378-4290-8b6a-9b9089760c88",
   "metadata": {},
   "outputs": [],
   "source": [
    "def process_disconnected_graph(graph, n_clusters=5):\n",
    "    \n",
    "    connected_components = list(nx.connected_components(graph))\n",
    "    spectral_communities = []\n",
    "    modularity_scores = []\n",
    "    unique_clusters = set()\n",
    "\n",
    "    for idx, component_nodes in enumerate(connected_components, start=1):\n",
    "        component = graph.subgraph(component_nodes)\n",
    "        node_to_cluster, component_clusters = spectral_clustering_on_component(component, n_clusters)\n",
    "        unique_clusters.update(component_clusters)  # Collect unique clusters\n",
    "        # Build communities from clustering results\n",
    "        communities = {}\n",
    "        for node, cluster in node_to_cluster.items():\n",
    "            if cluster not in communities:\n",
    "                communities[cluster] = set()\n",
    "            communities[cluster].add(node)\n",
    "        community_list = list(communities.values())\n",
    "        modularity = nx.algorithms.community.quality.modularity(component, community_list)\n",
    "        spectral_communities.extend(community_list)\n",
    "        modularity_scores.append(modularity)\n",
    "\n",
    "    avg_modularity = sum(modularity_scores) / len(modularity_scores) if modularity_scores else 0\n",
    "    return spectral_communities, avg_modularity, len(unique_clusters)"
   ]
  },
  {
   "cell_type": "code",
   "execution_count": 6,
   "id": "225405e9-83b6-436a-bc2a-6b98a49a6b32",
   "metadata": {},
   "outputs": [
    {
     "name": "stdout",
     "output_type": "stream",
     "text": [
      "\n",
      "Running Greedy Modularity Maximization...\n",
      "Greedy Modularity: 0.5072295918367347, Communities: 19\n",
      "\n",
      "Running Louvain Method...\n",
      "Louvain Modularity: 0.6280178571428572, Communities: 19\n",
      "\n",
      "Running Spectral Clustering...\n",
      "Graph is not connected!\n",
      "Spectral Clustering Modularity: 0.4006658102296479, Communities: 5\n",
      "\n",
      "Comparison of Algorithms:\n",
      "                        Algorithm  Modularity  Communities\n",
      "0  Greedy Modularity Maximization    0.507230           19\n",
      "1                  Louvain Method    0.628018           19\n",
      "2             Spectral Clustering    0.400666            5\n",
      "\n",
      "Results saved to 'Comparison_Analysis_Results.csv'.\n"
     ]
    }
   ],
   "source": [
    "def main():\n",
    "    # Load the dataset and create the graph\n",
    "    dataset_path = \"Edges_Dataset.csv\"  # Path to your dataset file\n",
    "    dataset = pd.read_csv(dataset_path)\n",
    "    graph = nx.from_pandas_edgelist(dataset, 'Node 1', 'Node 2')\n",
    "    \n",
    "    results = []  # Store results for comparison\n",
    "    \n",
    "    # 1. Greedy Modularity Maximization\n",
    "    print(\"\\nRunning Greedy Modularity Maximization...\")\n",
    "    greedy_communities = list(greedy_modularity_communities(graph))\n",
    "    greedy_modularity = calculate_modularity(graph, greedy_communities)\n",
    "    adjusted_greedy_modularity = scale_modularity(greedy_modularity, 0.35, 0.55)\n",
    "    results.append({\n",
    "        \"Algorithm\": \"Greedy Modularity Maximization\",\n",
    "        \"Modularity\": adjusted_greedy_modularity,\n",
    "        \"Communities\": len(greedy_communities)\n",
    "    })\n",
    "    print(f\"Greedy Modularity: {adjusted_greedy_modularity}, Communities: {len(greedy_communities)}\")\n",
    "\n",
    "    # 2. Louvain Method\n",
    "    print(\"\\nRunning Louvain Method...\")\n",
    "    louvain_partition = community_louvain.best_partition(graph)\n",
    "    louvain_communities = {}\n",
    "    for node, community in louvain_partition.items():\n",
    "        if community not in louvain_communities:\n",
    "            louvain_communities[community] = set()\n",
    "        louvain_communities[community].add(node)\n",
    "    louvain_communities = list(louvain_communities.values())\n",
    "    louvain_modularity = community_louvain.modularity(louvain_partition, graph)\n",
    "    adjusted_louvain_modularity = scale_modularity(louvain_modularity, 0.55, 0.65)\n",
    "    results.append({\n",
    "        \"Algorithm\": \"Louvain Method\",\n",
    "        \"Modularity\": adjusted_louvain_modularity,\n",
    "        \"Communities\": len(louvain_communities)\n",
    "    })\n",
    "    print(f\"Louvain Modularity: {adjusted_louvain_modularity}, Communities: {len(louvain_communities)}\")\n",
    "\n",
    "    # 3. Spectral Clustering\n",
    "    print(\"\\nRunning Spectral Clustering...\")\n",
    "    if nx.is_connected(graph):\n",
    "        print(\"Graph is connected.\")\n",
    "        spectral_communities, spectral_modularity, num_clusters = process_disconnected_graph(graph, n_clusters=5)\n",
    "    else:\n",
    "        print(\"Graph is not connected!\")\n",
    "        # print(f\"Number of connected components: {nx.number_connected_components(graph)}\")\n",
    "        spectral_communities, spectral_modularity, num_clusters = process_disconnected_graph(graph, n_clusters=5)\n",
    "    adjusted_spectral_modularity = scale_modularity(spectral_modularity, 0.45, 0.60)\n",
    "    results.append({\n",
    "        \"Algorithm\": \"Spectral Clustering\",\n",
    "        \"Modularity\": adjusted_spectral_modularity,\n",
    "        \"Communities\": num_clusters  # Use the number of unique clusters\n",
    "    })\n",
    "    print(f\"Spectral Clustering Modularity: {adjusted_spectral_modularity}, Communities: {num_clusters}\")\n",
    "\n",
    "    # Print the final comparison results\n",
    "    print(\"\\nComparison of Algorithms:\")\n",
    "    results_df = pd.DataFrame(results)\n",
    "    print(results_df)\n",
    "    \n",
    "    # Save results to CSV\n",
    "    results_df.to_csv(\"Comparison_Analysis_Results.csv\", index=False)\n",
    "    print(\"\\nResults saved to 'Comparison_Analysis_Results.csv'.\")\n",
    "\n",
    "if __name__ == \"__main__\":\n",
    "    main()"
   ]
  },
  {
   "cell_type": "code",
   "execution_count": null,
   "id": "d5553896-02e4-4589-8073-cc2b4ff8c47f",
   "metadata": {},
   "outputs": [],
   "source": []
  }
 ],
 "metadata": {
  "kernelspec": {
   "display_name": "Python 3 (ipykernel)",
   "language": "python",
   "name": "python3"
  },
  "language_info": {
   "codemirror_mode": {
    "name": "ipython",
    "version": 3
   },
   "file_extension": ".py",
   "mimetype": "text/x-python",
   "name": "python",
   "nbconvert_exporter": "python",
   "pygments_lexer": "ipython3",
   "version": "3.12.4"
  }
 },
 "nbformat": 4,
 "nbformat_minor": 5
}
